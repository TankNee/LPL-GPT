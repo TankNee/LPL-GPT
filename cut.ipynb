{
 "cells": [
  {
   "cell_type": "code",
   "execution_count": 1,
   "metadata": {},
   "outputs": [],
   "source": [
    "from common import read_json"
   ]
  },
  {
   "cell_type": "code",
   "execution_count": 5,
   "metadata": {},
   "outputs": [
    {
     "name": "stdout",
     "output_type": "stream",
     "text": [
      "但omg人打的很聪明啊\n",
      "下塔直接放了\n",
      "这边中塔有了ui也是换资源\n",
      "edg也可以接受吧\n",
      "主要是给丽芙\n",
      "那得赶紧回去啊\n",
      "这边是有先锋的\n",
      "给力辅发育的时间\n",
      "这把真得看离谱\n",
      "而且杰斯这把的发育还可以\n",
      "还可以\n",
      "对两个人头160刀\n",
      "中路再撞一头\n",
      "想硬拆吗\n",
      "杰斯不给omg也挺舒服的吧\n",
      "中路这个缺口也是打开了\n"
     ]
    }
   ],
   "source": [
    "subtitles = read_json(\"./outputs/subtitles/EDG_OMG_20230406_4_903.65_933.79.json\")\n",
    "print(\"\\n\".join([s[\"text\"] for s in subtitles]))"
   ]
  }
 ],
 "metadata": {
  "kernelspec": {
   "display_name": "nee-llm",
   "language": "python",
   "name": "python3"
  },
  "language_info": {
   "codemirror_mode": {
    "name": "ipython",
    "version": 3
   },
   "file_extension": ".py",
   "mimetype": "text/x-python",
   "name": "python",
   "nbconvert_exporter": "python",
   "pygments_lexer": "ipython3",
   "version": "3.8.16"
  }
 },
 "nbformat": 4,
 "nbformat_minor": 2
}
